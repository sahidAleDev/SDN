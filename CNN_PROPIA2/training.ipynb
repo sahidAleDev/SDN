{
 "cells": [
  {
   "cell_type": "code",
   "execution_count": 24,
   "id": "f405297c",
   "metadata": {},
   "outputs": [],
   "source": [
    "from keras.models import Sequential\n",
    "from keras.layers import Dense,Activation,Flatten,Dropout\n",
    "from keras.layers import Conv2D,MaxPooling2D\n",
    "from keras.applications.vgg16 import preprocess_input\n",
    "from sklearn.model_selection import train_test_split\n",
    "from keras.models import load_model\n",
    "from keras.utils import np_utils\n",
    "\n",
    "import matplotlib.pyplot as plt\n",
    "from random import shuffle\n",
    "import tensorflow as tf\n",
    "import numpy as np\n",
    "import cv2 as cv\n",
    "import os"
   ]
  },
  {
   "cell_type": "code",
   "execution_count": 2,
   "id": "be8a99c0",
   "metadata": {},
   "outputs": [
    {
     "name": "stdout",
     "output_type": "stream",
     "text": [
      "['NORMAL', 'PNEUMONIA']\n",
      "[0, 1]\n",
      "{'NORMAL': 0, 'PNEUMONIA': 1}\n"
     ]
    }
   ],
   "source": [
    "dataPath = 'Chestimages'\n",
    "Categories = os.listdir(dataPath)\n",
    "labels = [i for i in range (len(Categories))]\n",
    "labeldict = {}\n",
    "\n",
    "for i in range (len(Categories)):\n",
    "    labeldict[Categories[i]]=labels[i]\n",
    "\n",
    "print(Categories)\n",
    "print(labels)\n",
    "print(labeldict)  "
   ]
  },
  {
   "cell_type": "code",
   "execution_count": 3,
   "id": "ced4b8ca",
   "metadata": {},
   "outputs": [
    {
     "name": "stdout",
     "output_type": "stream",
     "text": [
      "NORMAL\n",
      "PNEUMONIA\n"
     ]
    }
   ],
   "source": [
    "imageSize=128\n",
    "Dataset=[]\n",
    "\n",
    "for Category in Categories:\n",
    "    folderPath = os.path.join(dataPath,Category)\n",
    "    imageNames = os.listdir(folderPath)\n",
    "\n",
    "    ##print(folderPath)\n",
    "    ##print(imageNames)\n",
    "    print(Category)\n",
    "    \n",
    "    for imageName in imageNames:\n",
    "        imagePath = os.path.join(folderPath,imageName)\n",
    "        image = cv.imread(imagePath)\n",
    "        \n",
    "        try:\n",
    "            grayImage = cv.cvtColor(image,cv.COLOR_BGR2GRAY)\n",
    "            resized = cv.resize(grayImage,(imageSize,imageSize))\n",
    "            Dataset.append([resized,labeldict[Category]])\n",
    "            \n",
    "        except Exception as e:\n",
    "            print(e)\n",
    "\n",
    "#print(Dataset)\n"
   ]
  },
  {
   "cell_type": "code",
   "execution_count": 4,
   "id": "f4210301",
   "metadata": {},
   "outputs": [],
   "source": [
    "shuffle(Dataset)"
   ]
  },
  {
   "cell_type": "code",
   "execution_count": 5,
   "id": "27f573e0",
   "metadata": {},
   "outputs": [],
   "source": [
    "data = []\n",
    "target = []\n",
    "\n",
    "for feature, label in Dataset:\n",
    "    \n",
    "    data.append(feature)\n",
    "    target.append(label)\n",
    "\n",
    "\n",
    "#print(data)\n",
    "#print(target)"
   ]
  },
  {
   "cell_type": "code",
   "execution_count": 6,
   "id": "19bee5e1",
   "metadata": {},
   "outputs": [
    {
     "name": "stdout",
     "output_type": "stream",
     "text": [
      "(5216, 128, 128)\n",
      "(5216, 128, 128, 1)\n",
      "(5216,)\n"
     ]
    }
   ],
   "source": [
    "data = np.array(data)/255\n",
    "print(data.shape)\n",
    "data = np.reshape(data,(data.shape[0],imageSize,imageSize,1))\n",
    "target = np.array(target)\n",
    "#print(target)\n",
    "#print(data.shape)\n",
    "print(data.shape)\n",
    "print(target.shape)\n",
    "\n",
    "newTarget = np_utils.to_categorical(target)"
   ]
  },
  {
   "cell_type": "code",
   "execution_count": 7,
   "id": "8c4cc6ce",
   "metadata": {},
   "outputs": [],
   "source": [
    "np.save('dataChestXray',data)\n",
    "np.save('targetChestXray',newTarget)"
   ]
  },
  {
   "cell_type": "code",
   "execution_count": 8,
   "id": "5977dfc5",
   "metadata": {},
   "outputs": [
    {
     "name": "stdout",
     "output_type": "stream",
     "text": [
      "(128, 128, 1)\n"
     ]
    }
   ],
   "source": [
    "data = np.load('dataChestXray.npy')\n",
    "target = np.load('targetChestXray.npy')\n",
    "print(data.shape[1:])"
   ]
  },
  {
   "cell_type": "code",
   "execution_count": 9,
   "id": "1beead09",
   "metadata": {},
   "outputs": [
    {
     "name": "stdout",
     "output_type": "stream",
     "text": [
      "Model: \"sequential\"\n",
      "_________________________________________________________________\n",
      " Layer (type)                Output Shape              Param #   \n",
      "=================================================================\n",
      " conv2d (Conv2D)             (None, 126, 126, 32)      320       \n",
      "                                                                 \n",
      " activation (Activation)     (None, 126, 126, 32)      0         \n",
      "                                                                 \n",
      " max_pooling2d (MaxPooling2D  (None, 63, 63, 32)       0         \n",
      " )                                                               \n",
      "                                                                 \n",
      " dropout (Dropout)           (None, 63, 63, 32)        0         \n",
      "                                                                 \n",
      " conv2d_1 (Conv2D)           (None, 61, 61, 32)        9248      \n",
      "                                                                 \n",
      " activation_1 (Activation)   (None, 61, 61, 32)        0         \n",
      "                                                                 \n",
      " max_pooling2d_1 (MaxPooling  (None, 30, 30, 32)       0         \n",
      " 2D)                                                             \n",
      "                                                                 \n",
      " dropout_1 (Dropout)         (None, 30, 30, 32)        0         \n",
      "                                                                 \n",
      " conv2d_2 (Conv2D)           (None, 28, 28, 64)        18496     \n",
      "                                                                 \n",
      " activation_2 (Activation)   (None, 28, 28, 64)        0         \n",
      "                                                                 \n",
      " max_pooling2d_2 (MaxPooling  (None, 14, 14, 64)       0         \n",
      " 2D)                                                             \n",
      "                                                                 \n",
      " dropout_2 (Dropout)         (None, 14, 14, 64)        0         \n",
      "                                                                 \n",
      " flatten (Flatten)           (None, 12544)             0         \n",
      "                                                                 \n",
      " dense (Dense)               (None, 128)               1605760   \n",
      "                                                                 \n",
      " dropout_3 (Dropout)         (None, 128)               0         \n",
      "                                                                 \n",
      " dense_1 (Dense)             (None, 2)                 258       \n",
      "                                                                 \n",
      "=================================================================\n",
      "Total params: 1,634,082\n",
      "Trainable params: 1,634,082\n",
      "Non-trainable params: 0\n",
      "_________________________________________________________________\n"
     ]
    }
   ],
   "source": [
    "model = Sequential()\n",
    "\n",
    "model.add(Conv2D(32,(3,3),input_shape=data.shape[1:]))\n",
    "model.add(Activation('relu'))\n",
    "model.add(MaxPooling2D(pool_size=(2,2)))\n",
    "model.add(Dropout(0.5))\n",
    "\n",
    "model.add(Conv2D(32,(3,3)))\n",
    "model.add(Activation('relu'))\n",
    "model.add(MaxPooling2D(pool_size=(2,2)))\n",
    "model.add(Dropout(0.5))\n",
    "\n",
    "model.add(Conv2D(64,(3,3)))\n",
    "model.add(Activation('relu'))\n",
    "model.add(MaxPooling2D(pool_size=(2,2)))\n",
    "model.add(Dropout(0.5))\n",
    "\n",
    "model.add(Flatten())\n",
    "\n",
    "model.add(Dense(128,activation='relu'))\n",
    "model.add(Dropout(0.5))\n",
    "model.add(Dense(2,activation='softmax'))\n",
    "\n",
    "model.compile(loss='categorical_crossentropy',optimizer='adam',metrics=['accuracy'])\n",
    "model.summary()"
   ]
  },
  {
   "cell_type": "code",
   "execution_count": 10,
   "id": "b67a8d91",
   "metadata": {},
   "outputs": [
    {
     "name": "stdout",
     "output_type": "stream",
     "text": [
      "Epoch 1/12\n",
      "131/131 [==============================] - 35s 260ms/step - loss: 0.4692 - accuracy: 0.7864 - val_loss: 0.4194 - val_accuracy: 0.9291\n",
      "Epoch 2/12\n",
      "131/131 [==============================] - 34s 256ms/step - loss: 0.2301 - accuracy: 0.9044 - val_loss: 0.2777 - val_accuracy: 0.9416\n",
      "Epoch 3/12\n",
      "131/131 [==============================] - 34s 258ms/step - loss: 0.1818 - accuracy: 0.9307 - val_loss: 0.2332 - val_accuracy: 0.9473\n",
      "Epoch 4/12\n",
      "131/131 [==============================] - 34s 257ms/step - loss: 0.1628 - accuracy: 0.9372 - val_loss: 0.1567 - val_accuracy: 0.9531\n",
      "Epoch 5/12\n",
      "131/131 [==============================] - 34s 256ms/step - loss: 0.1430 - accuracy: 0.9489 - val_loss: 0.1583 - val_accuracy: 0.9464\n",
      "Epoch 6/12\n",
      "131/131 [==============================] - 34s 258ms/step - loss: 0.1294 - accuracy: 0.9518 - val_loss: 0.1561 - val_accuracy: 0.9607\n",
      "Epoch 7/12\n",
      "131/131 [==============================] - 34s 256ms/step - loss: 0.1171 - accuracy: 0.9559 - val_loss: 0.1661 - val_accuracy: 0.9550\n",
      "Epoch 8/12\n",
      "131/131 [==============================] - 36s 274ms/step - loss: 0.1159 - accuracy: 0.9571 - val_loss: 0.1236 - val_accuracy: 0.9684\n",
      "Epoch 9/12\n",
      "131/131 [==============================] - 37s 285ms/step - loss: 0.1031 - accuracy: 0.9602 - val_loss: 0.1025 - val_accuracy: 0.9713\n",
      "Epoch 10/12\n",
      "131/131 [==============================] - 36s 273ms/step - loss: 0.1011 - accuracy: 0.9650 - val_loss: 0.1091 - val_accuracy: 0.9674\n",
      "Epoch 11/12\n",
      "131/131 [==============================] - 35s 269ms/step - loss: 0.0946 - accuracy: 0.9638 - val_loss: 0.0898 - val_accuracy: 0.9665\n",
      "Epoch 12/12\n",
      "131/131 [==============================] - 34s 257ms/step - loss: 0.0912 - accuracy: 0.9645 - val_loss: 0.0888 - val_accuracy: 0.9722\n"
     ]
    }
   ],
   "source": [
    "train_data, test_data, train_target, test_target = train_test_split(data, target, test_size = 0.2)\n",
    "\n",
    "history = model.fit(\n",
    "    train_data, \n",
    "    train_target, \n",
    "    epochs = 12, \n",
    "    validation_data = (test_data, test_target)\n",
    ")"
   ]
  },
  {
   "cell_type": "code",
   "execution_count": 11,
   "id": "72691006",
   "metadata": {},
   "outputs": [
    {
     "name": "stdout",
     "output_type": "stream",
     "text": [
      "33/33 [==============================] - 1s 44ms/step - loss: 0.0888 - accuracy: 0.9722\n"
     ]
    },
    {
     "data": {
      "text/plain": [
       "[0.0888151153922081, 0.9722222089767456]"
      ]
     },
     "execution_count": 11,
     "metadata": {},
     "output_type": "execute_result"
    }
   ],
   "source": [
    "model.evaluate(test_data,test_target)"
   ]
  },
  {
   "cell_type": "code",
   "execution_count": 23,
   "id": "a88887a3",
   "metadata": {},
   "outputs": [
    {
     "data": {
      "image/png": "[encoded data removed]",
      "text/plain": [
       "<Figure size 640x480 with 1 Axes>"
      ]
     },
     "metadata": {},
     "output_type": "display_data"
    },
    {
     "data": {
      "image/png": "[encoded data removed]",
      "text/plain": [
       "<Figure size 640x480 with 1 Axes>"
      ]
     },
     "metadata": {},
     "output_type": "display_data"
    }
   ],
   "source": [
    "#  Obtenemos los valores de loss y accuracy para los datos de entrenamiento y validación\n",
    "train_loss = history.history['loss']\n",
    "train_acc = history.history['accuracy']\n",
    "val_loss = history.history['val_loss']\n",
    "val_acc = history.history['val_accuracy']\n",
    "\n",
    "# Graficamos la evolución del loss\n",
    "plt.plot(train_loss, label='train_loss')\n",
    "plt.plot(val_loss, label='val_loss')\n",
    "plt.xlabel('Epoch')\n",
    "plt.ylabel('Loss')\n",
    "plt.legend()\n",
    "plt.show()\n",
    "\n",
    "# Graficamos la evolución del accuracy\n",
    "plt.plot(train_acc, label='train_acc')\n",
    "plt.plot(val_acc, label='val_acc')\n",
    "plt.xlabel('Epoch')\n",
    "plt.ylabel('Accuracy')\n",
    "plt.legend()\n",
    "plt.show()"
   ]
  },
  {
   "cell_type": "code",
   "execution_count": 13,
   "id": "ebbfac93",
   "metadata": {},
   "outputs": [],
   "source": [
    "model.save('chest_xray.h5')\n"
   ]
  },
  {
   "cell_type": "code",
   "execution_count": 25,
   "id": "f3ea92b0",
   "metadata": {},
   "outputs": [],
   "source": [
    "model = load_model('chest_xray.h5')"
   ]
  },
  {
   "cell_type": "code",
   "execution_count": 26,
   "id": "4fde118f",
   "metadata": {},
   "outputs": [
    {
     "name": "stdout",
     "output_type": "stream",
     "text": [
      "1/1 [==============================] - 0s 150ms/step\n",
      "[[0.02543493 0.9745651 ]]\n"
     ]
    }
   ],
   "source": [
    "image = cv.imread('NORMAL.jpeg')\n",
    "grayImage = cv.cvtColor(image,cv.COLOR_BGR2GRAY)\n",
    "resized = cv.resize(grayImage,(128,128))\n",
    "normalized = resized/255\n",
    "reshaped = np.reshape(normalized,(1,128,128,1))\n",
    "result = model.predict(reshaped)\n",
    "print(result)\n"
   ]
  }
 ],
 "metadata": {
  "kernelspec": {
   "display_name": "Python 3 (ipykernel)",
   "language": "python",
   "name": "python3"
  },
  "language_info": {
   "codemirror_mode": {
    "name": "ipython",
    "version": 3
   },
   "file_extension": ".py",
   "mimetype": "text/x-python",
   "name": "python",
   "nbconvert_exporter": "python",
   "pygments_lexer": "ipython3",
   "version": "3.11.2"
  }
 },
 "nbformat": 4,
 "nbformat_minor": 5
}
